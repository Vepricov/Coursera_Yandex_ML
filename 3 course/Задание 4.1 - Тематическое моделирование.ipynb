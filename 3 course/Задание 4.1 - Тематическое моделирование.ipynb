{
 "cells": [
  {
   "cell_type": "markdown",
   "metadata": {},
   "source": [
    "# Programming Assignment: \n",
    "## Готовим LDA по рецептам"
   ]
  },
  {
   "cell_type": "markdown",
   "metadata": {},
   "source": [
    "Как вы уже знаете, в тематическом моделировании делается предположение о том, что для определения тематики порядок слов в документе не важен; об этом гласит гипотеза «мешка слов». Сегодня мы будем работать с несколько нестандартной для тематического моделирования коллекцией, которую можно назвать «мешком ингредиентов», потому что на состоит из рецептов блюд разных кухонь. Тематические модели ищут слова, которые часто вместе встречаются в документах, и составляют из них темы. Мы попробуем применить эту идею к рецептам и найти кулинарные «темы». Эта коллекция хороша тем, что не требует предобработки. Кроме того, эта задача достаточно наглядно иллюстрирует принцип работы тематических моделей.\n",
    "\n",
    "Для выполнения заданий, помимо часто используемых в курсе библиотек, потребуются модули *json* и *gensim*. Первый входит в дистрибутив Anaconda, второй можно поставить командой \n",
    "\n",
    "*pip install gensim*\n",
    "\n",
    "Построение модели занимает некоторое время. На ноутбуке с процессором Intel Core i7 и тактовой частотой 2400 МГц на построение одной модели уходит менее 10 минут."
   ]
  },
  {
   "cell_type": "markdown",
   "metadata": {},
   "source": [
    "### Загрузка данных"
   ]
  },
  {
   "cell_type": "markdown",
   "metadata": {},
   "source": [
    "Коллекция дана в json-формате: для каждого рецепта известны его id, кухня (cuisine) и список ингредиентов, в него входящих. Загрузить данные можно с помощью модуля json (он входит в дистрибутив Anaconda):"
   ]
  },
  {
   "cell_type": "code",
   "execution_count": 1,
   "metadata": {
    "collapsed": true
   },
   "outputs": [],
   "source": [
    "import json"
   ]
  },
  {
   "cell_type": "code",
   "execution_count": 2,
   "metadata": {
    "collapsed": true
   },
   "outputs": [],
   "source": [
    "with open(\"recipes.json\") as f:\n",
    "    recipes = json.load(f)"
   ]
  },
  {
   "cell_type": "code",
   "execution_count": 3,
   "metadata": {
    "collapsed": false
   },
   "outputs": [
    {
     "name": "stdout",
     "output_type": "stream",
     "text": [
      "{u'cuisine': u'greek', u'id': 10259, u'ingredients': [u'romaine lettuce', u'black olives', u'grape tomatoes', u'garlic', u'pepper', u'purple onion', u'seasoning', u'garbanzo beans', u'feta cheese crumbles']}\n"
     ]
    }
   ],
   "source": [
    "print recipes[0]"
   ]
  },
  {
   "cell_type": "markdown",
   "metadata": {},
   "source": [
    "### Составление корпуса"
   ]
  },
  {
   "cell_type": "code",
   "execution_count": 4,
   "metadata": {
    "collapsed": true
   },
   "outputs": [],
   "source": [
    "from gensim import corpora, models\n",
    "import numpy as np"
   ]
  },
  {
   "cell_type": "markdown",
   "metadata": {},
   "source": [
    "Наша коллекция небольшая, и целиком помещается в оперативную память. Gensim может работать с такими данными и не требует их сохранения на диск в специальном формате. Для этого коллекция должна быть представлена в виде списка списков, каждый внутренний список соответствует отдельному документу и состоит из его слов. Пример коллекции из двух документов: \n",
    "\n",
    "[[\"hello\", \"world\"], [\"programming\", \"in\", \"python\"]]\n",
    "\n",
    "Преобразуем наши данные в такой формат, а затем создадим объекты corpus и dictionary, с которыми будет работать модель."
   ]
  },
  {
   "cell_type": "code",
   "execution_count": 47,
   "metadata": {
    "collapsed": true
   },
   "outputs": [],
   "source": [
    "texts = [recipe[\"ingredients\"] for recipe in recipes]\n",
    "dictionary = corpora.Dictionary(texts)   # составляем словарь\n",
    "corpus = [dictionary.doc2bow(text) for text in texts]  # составляем корпус документов"
   ]
  },
  {
   "cell_type": "code",
   "execution_count": 13,
   "metadata": {
    "collapsed": false
   },
   "outputs": [
    {
     "name": "stdout",
     "output_type": "stream",
     "text": [
      "[u'romaine lettuce', u'black olives', u'grape tomatoes', u'garlic', u'pepper', u'purple onion', u'seasoning', u'garbanzo beans', u'feta cheese crumbles']\n",
      "[(0, 1), (1, 1), (2, 1), (3, 1), (4, 1), (5, 1), (6, 1), (7, 1), (8, 1)]\n"
     ]
    }
   ],
   "source": [
    "print texts[0]\n",
    "print corpus[0]"
   ]
  },
  {
   "cell_type": "markdown",
   "metadata": {},
   "source": [
    "У объекта dictionary есть полезная переменная dictionary.token2id, позволяющая находить соответствие между ингредиентами и их индексами."
   ]
  },
  {
   "cell_type": "markdown",
   "metadata": {},
   "source": [
    "### Обучение модели\n",
    "Вам может понадобиться [документация](https://radimrehurek.com/gensim/models/ldamodel.html) LDA в gensim."
   ]
  },
  {
   "cell_type": "markdown",
   "metadata": {},
   "source": [
    "__Задание 1.__ Обучите модель LDA с 40 темами, установив количество проходов по коллекции 5 и оставив остальные параметры по умолчанию. \n",
    "\n",
    "\n",
    "Затем вызовите метод модели *show_topics*, указав количество тем 40 и количество токенов 10, и сохраните результат (топы ингредиентов в темах) в отдельную переменную. Если при вызове метода *show_topics* указать параметр *formatted=True*, то топы ингредиентов будет удобно выводить на печать, если *formatted=False*, будет удобно работать со списком программно. Выведите топы на печать, рассмотрите темы, а затем ответьте на вопрос:\n",
    "\n",
    "Сколько раз ингредиенты \"salt\", \"sugar\", \"water\", \"mushrooms\", \"chicken\", \"eggs\" встретились среди топов-10 всех 40 тем? При ответе __не нужно__ учитывать составные ингредиенты, например, \"hot water\".\n",
    "\n",
    "Передайте 6 чисел в функцию save_answers1 и загрузите сгенерированный файл в форму.\n",
    "\n",
    "У gensim нет возможности фиксировать случайное приближение через параметры метода, но библиотека использует numpy для инициализации матриц. Поэтому, по утверждению автора библиотеки, фиксировать случайное приближение нужно командой, которая написана в следующей ячейке. __Перед строкой кода с построением модели обязательно вставляйте указанную строку фиксации random.seed.__"
   ]
  },
  {
   "cell_type": "code",
   "execution_count": 32,
   "metadata": {
    "collapsed": false
   },
   "outputs": [
    {
     "name": "stdout",
     "output_type": "stream",
     "text": [
      "Wall time: 48.2 s\n"
     ]
    }
   ],
   "source": [
    "np.random.seed(76543)\n",
    "# здесь код для построения модели:\n",
    "%time model_LDA = models.ldamodel.LdaModel(corpus, id2word=dictionary, num_topics=40, passes=5)"
   ]
  },
  {
   "cell_type": "code",
   "execution_count": 33,
   "metadata": {
    "collapsed": false
   },
   "outputs": [
    {
     "data": {
      "text/plain": [
       "[(0,\n",
       "  [(u'chopped onion', 0.10550424),\n",
       "   (u'garlic cloves', 0.083202064),\n",
       "   (u'salt', 0.063993908),\n",
       "   (u'fat free less sodium chicken broth', 0.054448761),\n",
       "   (u'sliced green onions', 0.047526821),\n",
       "   (u'cooking spray', 0.047242414),\n",
       "   (u'ground red pepper', 0.045450233),\n",
       "   (u'water', 0.044405412),\n",
       "   (u'spinach', 0.037758738),\n",
       "   (u'black pepper', 0.030816004)]),\n",
       " (1,\n",
       "  [(u'corn kernels', 0.10138553),\n",
       "   (u'diced onions', 0.086233579),\n",
       "   (u'tortillas', 0.072109237),\n",
       "   (u'vegetable stock', 0.066314511),\n",
       "   (u'chopped fresh chives', 0.049696498),\n",
       "   (u'sliced black olives', 0.049219433),\n",
       "   (u'cream cheese, soften', 0.047816008),\n",
       "   (u'lard', 0.043295395),\n",
       "   (u'jack cheese', 0.034382954),\n",
       "   (u'canned black beans', 0.024259457)]),\n",
       " (2,\n",
       "  [(u'olive oil', 0.087071404),\n",
       "   (u'crushed red pepper', 0.060184546),\n",
       "   (u'fresh parsley', 0.054875847),\n",
       "   (u'garlic cloves', 0.0419751),\n",
       "   (u'grated parmesan cheese', 0.040212173),\n",
       "   (u'cherry tomatoes', 0.035580341),\n",
       "   (u'butter', 0.035563685),\n",
       "   (u'low salt chicken broth', 0.034232706),\n",
       "   (u'salt', 0.033755589),\n",
       "   (u'fresh rosemary', 0.032229587)]),\n",
       " (3,\n",
       "  [(u'bacon', 0.073765047),\n",
       "   (u'salt', 0.070090145),\n",
       "   (u'red pepper flakes', 0.061235726),\n",
       "   (u'onions', 0.053874161),\n",
       "   (u'garlic', 0.05108951),\n",
       "   (u'ground black pepper', 0.04895122),\n",
       "   (u'mushrooms', 0.043774515),\n",
       "   (u'chicken thighs', 0.042676959),\n",
       "   (u'pasta', 0.041734468),\n",
       "   (u'olive oil', 0.03407963)]),\n",
       " (4,\n",
       "  [(u'cooking spray', 0.090064622),\n",
       "   (u'salt', 0.066876858),\n",
       "   (u'powdered sugar', 0.060791228),\n",
       "   (u'large egg whites', 0.057363607),\n",
       "   (u'all-purpose flour', 0.054439958),\n",
       "   (u'sugar', 0.051332776),\n",
       "   (u'large eggs', 0.048752077),\n",
       "   (u'cream cheese', 0.044348396),\n",
       "   (u'yellow corn meal', 0.043717436),\n",
       "   (u'butter', 0.041600075)]),\n",
       " (5,\n",
       "  [(u'large garlic cloves', 0.092696793),\n",
       "   (u'shallots', 0.091895722),\n",
       "   (u'dry white wine', 0.075633176),\n",
       "   (u'olive oil', 0.055941403),\n",
       "   (u'finely chopped onion', 0.044742793),\n",
       "   (u'unsalted butter', 0.033521149),\n",
       "   (u'salt', 0.032816298),\n",
       "   (u'white wine vinegar', 0.031795852),\n",
       "   (u'arborio rice', 0.030481186),\n",
       "   (u'saffron threads', 0.026558876)]),\n",
       " (6,\n",
       "  [(u'fresh thyme', 0.079066247),\n",
       "   (u'dry red wine', 0.078273199),\n",
       "   (u'pork tenderloin', 0.05321249),\n",
       "   (u'reduced sodium soy sauce', 0.047610298),\n",
       "   (u'cilantro sprigs', 0.046872661),\n",
       "   (u'beef broth', 0.041449755),\n",
       "   (u'peppercorns', 0.036761794),\n",
       "   (u'cremini mushrooms', 0.032495271),\n",
       "   (u'rosemary', 0.023216454),\n",
       "   (u'daikon', 0.022842834)]),\n",
       " (7,\n",
       "  [(u'soy sauce', 0.092410088),\n",
       "   (u'sesame oil', 0.051591095),\n",
       "   (u'scallions', 0.043669865),\n",
       "   (u'green onions', 0.042597875),\n",
       "   (u'rice vinegar', 0.041153692),\n",
       "   (u'sugar', 0.039534077),\n",
       "   (u'corn starch', 0.036694173),\n",
       "   (u'garlic', 0.035491072),\n",
       "   (u'vegetable oil', 0.033827845),\n",
       "   (u'fresh ginger', 0.027073724)]),\n",
       " (8,\n",
       "  [(u'garlic powder', 0.17537236),\n",
       "   (u'cayenne pepper', 0.12317633),\n",
       "   (u'onion powder', 0.06581825),\n",
       "   (u'ground black pepper', 0.046690475),\n",
       "   (u'smoked paprika', 0.043640818),\n",
       "   (u'black pepper', 0.040617567),\n",
       "   (u'pinenuts', 0.040078986),\n",
       "   (u'salt', 0.037803758),\n",
       "   (u'fresh spinach', 0.025798472),\n",
       "   (u'dried oregano', 0.025507864)]),\n",
       " (9,\n",
       "  [(u'extra-virgin olive oil', 0.11405183),\n",
       "   (u'garlic cloves', 0.066777647),\n",
       "   (u'fresh lemon juice', 0.061394874),\n",
       "   (u'salt', 0.056193683),\n",
       "   (u'olive oil', 0.052774541),\n",
       "   (u'ground black pepper', 0.051699784),\n",
       "   (u'plum tomatoes', 0.046096105),\n",
       "   (u'purple onion', 0.042782307),\n",
       "   (u'balsamic vinegar', 0.034414485),\n",
       "   (u'fresh basil', 0.032975517)]),\n",
       " (10,\n",
       "  [(u'broccoli florets', 0.0650004),\n",
       "   (u'button mushrooms', 0.049361784),\n",
       "   (u'cr\\xe8me fra\\xeeche', 0.048305705),\n",
       "   (u'yellow squash', 0.04607296),\n",
       "   (u'radishes', 0.04426216),\n",
       "   (u'greek style plain yogurt', 0.038413808),\n",
       "   (u'pork sausages', 0.038308777),\n",
       "   (u'watercress', 0.034937304),\n",
       "   (u'quickcooking grits', 0.032745667),\n",
       "   (u'grated orange peel', 0.030816393)]),\n",
       " (11,\n",
       "  [(u'lime', 0.13397157),\n",
       "   (u'lime juice', 0.11478678),\n",
       "   (u'fresh cilantro', 0.055699557),\n",
       "   (u'chopped cilantro', 0.038201459),\n",
       "   (u'purple onion', 0.035480946),\n",
       "   (u'garlic', 0.030757815),\n",
       "   (u'mango', 0.030591866),\n",
       "   (u'jalapeno chilies', 0.027907925),\n",
       "   (u'lime wedges', 0.02745745),\n",
       "   (u'salt', 0.021800475)]),\n",
       " (12,\n",
       "  [(u'cheese', 0.095958784),\n",
       "   (u'ricotta cheese', 0.092868753),\n",
       "   (u'orange juice', 0.087639727),\n",
       "   (u'sliced mushrooms', 0.059149262),\n",
       "   (u'baby spinach', 0.058135167),\n",
       "   (u'vegetable broth', 0.056336604),\n",
       "   (u'vegetable oil cooking spray', 0.051632959),\n",
       "   (u'frozen chopped spinach', 0.036976576),\n",
       "   (u'part-skim mozzarella cheese', 0.03465835),\n",
       "   (u'italian sausage', 0.033494826)]),\n",
       " (13,\n",
       "  [(u'diced tomatoes', 0.093070254),\n",
       "   (u'onions', 0.063220315),\n",
       "   (u'dried oregano', 0.06058738),\n",
       "   (u'tomato sauce', 0.052867394),\n",
       "   (u'garlic', 0.048247948),\n",
       "   (u'salt', 0.046116516),\n",
       "   (u'tomato paste', 0.04604378),\n",
       "   (u'olive oil', 0.038344365),\n",
       "   (u'crushed tomatoes', 0.03305858),\n",
       "   (u'ground beef', 0.029434489)]),\n",
       " (14,\n",
       "  [(u'tomatoes', 0.1226419),\n",
       "   (u'red wine vinegar', 0.086510912),\n",
       "   (u'salt', 0.086037159),\n",
       "   (u'olive oil', 0.069777653),\n",
       "   (u'cucumber', 0.06974145),\n",
       "   (u'pepper', 0.051665846),\n",
       "   (u'fresh oregano', 0.044822756),\n",
       "   (u'purple onion', 0.035226103),\n",
       "   (u'lemon juice', 0.035150692),\n",
       "   (u'garlic', 0.031897672)]),\n",
       " (15,\n",
       "  [(u'lemon', 0.20254348),\n",
       "   (u'orange', 0.055041417),\n",
       "   (u'boiling water', 0.05297441),\n",
       "   (u'fine sea salt', 0.049305111),\n",
       "   (u'sugar', 0.04545192),\n",
       "   (u'cold water', 0.04412898),\n",
       "   (u'fennel seeds', 0.033927947),\n",
       "   (u'almonds', 0.031690627),\n",
       "   (u'water', 0.031078056),\n",
       "   (u'mint', 0.027986314)]),\n",
       " (16,\n",
       "  [(u'chopped cilantro fresh', 0.10259767),\n",
       "   (u'fresh lime juice', 0.076268248),\n",
       "   (u'jalapeno chilies', 0.068719126),\n",
       "   (u'white onion', 0.051208649),\n",
       "   (u'salt', 0.045523793),\n",
       "   (u'avocado', 0.04245799),\n",
       "   (u'ground cumin', 0.037906967),\n",
       "   (u'garlic cloves', 0.037056565),\n",
       "   (u'cilantro leaves', 0.027552655),\n",
       "   (u'vegetable oil', 0.027381275)]),\n",
       " (17,\n",
       "  [(u'ground ginger', 0.10093918),\n",
       "   (u'ground cinnamon', 0.09971565),\n",
       "   (u'raisins', 0.081952244),\n",
       "   (u'ground cloves', 0.077528767),\n",
       "   (u'white wine', 0.071017727),\n",
       "   (u'ground allspice', 0.061295018),\n",
       "   (u'fresh mushrooms', 0.055419724),\n",
       "   (u'lean ground beef', 0.050344914),\n",
       "   (u'dried rosemary', 0.032427009),\n",
       "   (u'iceberg lettuce', 0.030071128)]),\n",
       " (18,\n",
       "  [(u'parmesan cheese', 0.11859644),\n",
       "   (u'warm water', 0.073761448),\n",
       "   (u'salt', 0.062220771),\n",
       "   (u'olive oil', 0.052890759),\n",
       "   (u'dried basil', 0.05088193),\n",
       "   (u'grits', 0.039607409),\n",
       "   (u'kale', 0.032986954),\n",
       "   (u'plain flour', 0.031472016),\n",
       "   (u'water', 0.027845191),\n",
       "   (u'dry yeast', 0.027347226)]),\n",
       " (19,\n",
       "  [(u'unsalted butter', 0.12327373),\n",
       "   (u'large eggs', 0.098565541),\n",
       "   (u'all-purpose flour', 0.09662541),\n",
       "   (u'salt', 0.075626664),\n",
       "   (u'sugar', 0.060855921),\n",
       "   (u'whole milk', 0.039299194),\n",
       "   (u'granulated sugar', 0.037951011),\n",
       "   (u'baking powder', 0.033309035),\n",
       "   (u'large egg yolks', 0.025939399),\n",
       "   (u'buttermilk', 0.025783759)]),\n",
       " (20,\n",
       "  [(u'flat leaf parsley', 0.11814892),\n",
       "   (u'freshly ground pepper', 0.10126369),\n",
       "   (u'extra-virgin olive oil', 0.054935466),\n",
       "   (u'garlic cloves', 0.053293813),\n",
       "   (u'large shrimp', 0.044302486),\n",
       "   (u'olive oil', 0.044047698),\n",
       "   (u'salt', 0.042068496),\n",
       "   (u'dry bread crumbs', 0.032849927),\n",
       "   (u'ground black pepper', 0.026747612),\n",
       "   (u'basil leaves', 0.025992503)]),\n",
       " (21,\n",
       "  [(u'chicken broth', 0.14683636),\n",
       "   (u'green bell pepper', 0.067193523),\n",
       "   (u'boneless skinless chicken breast halves', 0.059695143),\n",
       "   (u'onions', 0.056134582),\n",
       "   (u'boneless skinless chicken breasts', 0.055750199),\n",
       "   (u'chicken breasts', 0.049333379),\n",
       "   (u'red bell pepper', 0.042533446),\n",
       "   (u'butter', 0.039986566),\n",
       "   (u'pepper', 0.039697979),\n",
       "   (u'salt', 0.03597017)]),\n",
       " (22,\n",
       "  [(u'grated parmesan cheese', 0.11427896),\n",
       "   (u'olive oil', 0.063454233),\n",
       "   (u'zucchini', 0.057049919),\n",
       "   (u'salt', 0.045505758),\n",
       "   (u'garlic', 0.041879032),\n",
       "   (u'mozzarella cheese', 0.041036379),\n",
       "   (u'shredded mozzarella cheese', 0.037833288),\n",
       "   (u'eggplant', 0.036736839),\n",
       "   (u'pepper', 0.034903225),\n",
       "   (u'eggs', 0.032590915)]),\n",
       " (23,\n",
       "  [(u'brown sugar', 0.078126632),\n",
       "   (u'water', 0.050599877),\n",
       "   (u'salt', 0.049630065),\n",
       "   (u'soy sauce', 0.047840159),\n",
       "   (u'white pepper', 0.046387512),\n",
       "   (u'oil', 0.04406118),\n",
       "   (u'sugar', 0.040484667),\n",
       "   (u'sauce', 0.038449675),\n",
       "   (u'ketchup', 0.034725592),\n",
       "   (u'garlic', 0.0336348)]),\n",
       " (24,\n",
       "  [(u'ground cumin', 0.073352493),\n",
       "   (u'salt', 0.046521589),\n",
       "   (u'ground coriander', 0.04646457),\n",
       "   (u'curry powder', 0.038627282),\n",
       "   (u'onions', 0.033682898),\n",
       "   (u'garlic', 0.028577801),\n",
       "   (u'vegetable oil', 0.027863611),\n",
       "   (u'garlic cloves', 0.026679229),\n",
       "   (u'ground turmeric', 0.026673425),\n",
       "   (u'fresh ginger', 0.024691198)]),\n",
       " (25,\n",
       "  [(u'hot water', 0.089427374),\n",
       "   (u'chopped garlic', 0.083050318),\n",
       "   (u'peanut oil', 0.064897247),\n",
       "   (u'rice wine', 0.058735814),\n",
       "   (u'hot red pepper flakes', 0.045851741),\n",
       "   (u'corn oil', 0.03660595),\n",
       "   (u'fontina cheese', 0.032643214),\n",
       "   (u'marsala wine', 0.030445991),\n",
       "   (u'seasoning', 0.030192651),\n",
       "   (u'garlic chili sauce', 0.029402934)]),\n",
       " (26,\n",
       "  [(u'mirin', 0.081952743),\n",
       "   (u'chickpeas', 0.071989961),\n",
       "   (u'red pepper', 0.051756795),\n",
       "   (u'mint leaves', 0.049783628),\n",
       "   (u'chopped fresh mint', 0.048319601),\n",
       "   (u'juice', 0.048204899),\n",
       "   (u'sugar', 0.038716324),\n",
       "   (u'fresh coriander', 0.037024565),\n",
       "   (u'sake', 0.034976017),\n",
       "   (u'grated lemon zest', 0.030185314)]),\n",
       " (27,\n",
       "  [(u'heavy cream', 0.18405406),\n",
       "   (u'cheddar cheese', 0.10189396),\n",
       "   (u'frozen peas', 0.070323795),\n",
       "   (u'grated nutmeg', 0.066222757),\n",
       "   (u'bananas', 0.040956024),\n",
       "   (u'bread', 0.036598578),\n",
       "   (u'ice', 0.0259776),\n",
       "   (u'adobo sauce', 0.023975506),\n",
       "   (u'old bay seasoning', 0.023053374),\n",
       "   (u'butter', 0.022842608)]),\n",
       " (28,\n",
       "  [(u'oil', 0.11528435),\n",
       "   (u'salt', 0.08717294),\n",
       "   (u'cilantro leaves', 0.05258669),\n",
       "   (u'green chilies', 0.051388744),\n",
       "   (u'cumin seed', 0.048378445),\n",
       "   (u'onions', 0.046554465),\n",
       "   (u'ground turmeric', 0.04214599),\n",
       "   (u'water', 0.041009393),\n",
       "   (u'chili powder', 0.03250837),\n",
       "   (u'tomatoes', 0.029302891)]),\n",
       " (29,\n",
       "  [(u'sour cream', 0.077829726),\n",
       "   (u'salsa', 0.047438618),\n",
       "   (u'flour tortillas', 0.046896137),\n",
       "   (u'chili powder', 0.045616161),\n",
       "   (u'corn tortillas', 0.041774135),\n",
       "   (u'shredded cheddar cheese', 0.041432373),\n",
       "   (u'black beans', 0.040244371),\n",
       "   (u'cilantro', 0.03571425),\n",
       "   (u'salt', 0.029364664),\n",
       "   (u'ground cumin', 0.028222224)]),\n",
       " (30,\n",
       "  [(u'sugar', 0.092598699),\n",
       "   (u'whipping cream', 0.080271639),\n",
       "   (u'egg yolks', 0.076236904),\n",
       "   (u'egg whites', 0.055398986),\n",
       "   (u'vanilla extract', 0.050220888),\n",
       "   (u'butter', 0.049780037),\n",
       "   (u'half & half', 0.042781819),\n",
       "   (u'sweetened condensed milk', 0.036835194),\n",
       "   (u'water', 0.03434642),\n",
       "   (u'strawberries', 0.031052189)]),\n",
       " (31,\n",
       "  [(u'shrimp', 0.10093603),\n",
       "   (u'medium shrimp', 0.061913632),\n",
       "   (u'long-grain rice', 0.044196293),\n",
       "   (u'vegetable oil', 0.043204833),\n",
       "   (u'green onions', 0.037582319),\n",
       "   (u'long grain white rice', 0.034541517),\n",
       "   (u'rice noodles', 0.034259968),\n",
       "   (u'hot pepper sauce', 0.034011658),\n",
       "   (u'cajun seasoning', 0.031552516),\n",
       "   (u'scallions', 0.028508417)]),\n",
       " (32,\n",
       "  [(u'eggs', 0.11218472),\n",
       "   (u'milk', 0.10451116),\n",
       "   (u'salt', 0.096258618),\n",
       "   (u'butter', 0.073246785),\n",
       "   (u'all-purpose flour', 0.067697413),\n",
       "   (u'flour', 0.042022455),\n",
       "   (u'baking powder', 0.041382499),\n",
       "   (u'white sugar', 0.040654391),\n",
       "   (u'sugar', 0.040177602),\n",
       "   (u'water', 0.023021055)]),\n",
       " (33,\n",
       "  [(u'rice', 0.06312456),\n",
       "   (u'coriander', 0.055407222),\n",
       "   (u'onions', 0.048696026),\n",
       "   (u'salt', 0.046940401),\n",
       "   (u'garam masala', 0.041723676),\n",
       "   (u'tumeric', 0.039935976),\n",
       "   (u'ginger', 0.039720722),\n",
       "   (u'cabbage', 0.038271368),\n",
       "   (u'garlic', 0.035137855),\n",
       "   (u'ghee', 0.034140136)]),\n",
       " (34,\n",
       "  [(u'cinnamon sticks', 0.090515539),\n",
       "   (u'clove', 0.084280059),\n",
       "   (u'black peppercorns', 0.070768014),\n",
       "   (u'chopped tomatoes', 0.041364223),\n",
       "   (u'cream', 0.041299552),\n",
       "   (u'garlic paste', 0.038356513),\n",
       "   (u'coriander seeds', 0.034853488),\n",
       "   (u'yoghurt', 0.034596976),\n",
       "   (u'fresh dill', 0.032433894),\n",
       "   (u'cinnamon', 0.028669517)]),\n",
       " (35,\n",
       "  [(u'onions', 0.066235267),\n",
       "   (u'bay leaves', 0.05188388),\n",
       "   (u'celery', 0.050090887),\n",
       "   (u'salt', 0.048915908),\n",
       "   (u'carrots', 0.047262676),\n",
       "   (u'bay leaf', 0.045443185),\n",
       "   (u'dried thyme', 0.045417868),\n",
       "   (u'water', 0.041946057),\n",
       "   (u'garlic', 0.032770623),\n",
       "   (u'ground black pepper', 0.030232718)]),\n",
       " (36,\n",
       "  [(u'salt', 0.11765328),\n",
       "   (u'pepper', 0.097959623),\n",
       "   (u'paprika', 0.071159542),\n",
       "   (u'onions', 0.069610901),\n",
       "   (u'potatoes', 0.054934226),\n",
       "   (u'butter', 0.044621956),\n",
       "   (u'garlic', 0.038835153),\n",
       "   (u'olive oil', 0.03721182),\n",
       "   (u'worcestershire sauce', 0.025235981),\n",
       "   (u'carrots', 0.024612378)]),\n",
       " (37,\n",
       "  [(u'sea salt', 0.11028804),\n",
       "   (u'coarse salt', 0.066201061),\n",
       "   (u'crushed red pepper flakes', 0.056520425),\n",
       "   (u'extra-virgin olive oil', 0.050517559),\n",
       "   (u'ground black pepper', 0.044783477),\n",
       "   (u'celery ribs', 0.044588674),\n",
       "   (u'ground pepper', 0.041531797),\n",
       "   (u'kosher salt', 0.038674902),\n",
       "   (u'garlic cloves', 0.034047447),\n",
       "   (u'parmigiano reggiano cheese', 0.03380115)]),\n",
       " (38,\n",
       "  [(u'fish sauce', 0.11510877),\n",
       "   (u'coconut milk', 0.055008523),\n",
       "   (u'garlic', 0.041720688),\n",
       "   (u'shallots', 0.037374128),\n",
       "   (u'red chili peppers', 0.036512621),\n",
       "   (u'lemongrass', 0.034377135),\n",
       "   (u'sugar', 0.027981929),\n",
       "   (u'vegetable oil', 0.026023403),\n",
       "   (u'boneless chicken skinless thigh', 0.024458112),\n",
       "   (u'brown sugar', 0.024210094)]),\n",
       " (39,\n",
       "  [(u'mayonaise', 0.15246284),\n",
       "   (u'dijon mustard', 0.094792038),\n",
       "   (u'cider vinegar', 0.069030233),\n",
       "   (u'cracked black pepper', 0.06880457),\n",
       "   (u'roma tomatoes', 0.046648826),\n",
       "   (u'white rice', 0.043360066),\n",
       "   (u'lemon wedge', 0.043086272),\n",
       "   (u'romaine lettuce', 0.035946038),\n",
       "   (u'chicken wings', 0.024222925),\n",
       "   (u'green onions', 0.023653695)])]"
      ]
     },
     "execution_count": 33,
     "metadata": {},
     "output_type": "execute_result"
    }
   ],
   "source": [
    "model_LDA.show_topics(num_topics = 40, num_words = 10, formatted = False)"
   ]
  },
  {
   "cell_type": "code",
   "execution_count": 34,
   "metadata": {
    "collapsed": false
   },
   "outputs": [
    {
     "name": "stdout",
     "output_type": "stream",
     "text": [
      "24 9 8 1 0 2\n"
     ]
    }
   ],
   "source": [
    "c_salt = 0\n",
    "c_sugar = 0\n",
    "c_water = 0\n",
    "c_mushrooms = 0\n",
    "c_chicken = 0\n",
    "c_eggs = 0\n",
    "for doc in model_LDA.show_topics(num_topics = 40, num_words = 10, formatted = False):\n",
    "    for word in doc[1]:\n",
    "        if word[0] == u'salt': c_salt += 1\n",
    "        if word[0] == u'sugar': c_sugar += 1\n",
    "        if word[0] == u'water': c_water += 1\n",
    "        if word[0] == u'mushrooms': c_mushrooms += 1\n",
    "        if word[0] == u'chicken': c_chicken += 1\n",
    "        if word[0] == u'eggs': c_eggs += 1\n",
    "print c_salt, c_sugar, c_water, c_mushrooms, c_chicken, c_eggs"
   ]
  },
  {
   "cell_type": "code",
   "execution_count": 36,
   "metadata": {
    "collapsed": true
   },
   "outputs": [],
   "source": [
    "def save_answers1(c_salt, c_sugar, c_water, c_mushrooms, c_chicken, c_eggs):\n",
    "    with open(\"cooking_LDA_pa_task1.txt\", \"w\") as fout:\n",
    "        fout.write(\" \".join([str(el) for el in [c_salt, c_sugar, c_water, c_mushrooms, c_chicken, c_eggs]]))"
   ]
  },
  {
   "cell_type": "code",
   "execution_count": 37,
   "metadata": {
    "collapsed": true
   },
   "outputs": [],
   "source": [
    "save_answers1(c_salt, c_sugar, c_water, c_mushrooms, c_chicken, c_eggs)"
   ]
  },
  {
   "cell_type": "markdown",
   "metadata": {},
   "source": [
    "### Фильтрация словаря\n",
    "В топах тем гораздо чаще встречаются первые три рассмотренных ингредиента, чем последние три. При этом наличие в рецепте курицы, яиц и грибов яснее дает понять, что мы будем готовить, чем наличие соли, сахара и воды. Таким образом, даже в рецептах есть слова, часто встречающиеся в текстах и не несущие смысловой нагрузки, и поэтому их не желательно видеть в темах. Наиболее простой прием борьбы с такими фоновыми элементами — фильтрация словаря по частоте. Обычно словарь фильтруют с двух сторон: убирают очень редкие слова (в целях экономии памяти) и очень частые слова (в целях повышения интерпретируемости тем). Мы уберем только частые слова."
   ]
  },
  {
   "cell_type": "code",
   "execution_count": 38,
   "metadata": {
    "collapsed": true
   },
   "outputs": [],
   "source": [
    "import copy\n",
    "dictionary2 = copy.deepcopy(dictionary)"
   ]
  },
  {
   "cell_type": "markdown",
   "metadata": {},
   "source": [
    "__Задание 2.__ У объекта dictionary2 есть переменная *dfs* — это словарь, ключами которого являются id токена, а элементами — число раз, сколько слово встретилось во всей коллекции. Сохраните в отдельный список ингредиенты, которые встретились в коллекции больше 4000 раз. Вызовите метод словаря *filter_tokens*, подав в качестве первого аргумента полученный список популярных ингредиентов. Вычислите две величины: dict_size_before и dict_size_after — размер словаря до и после фильтрации.\n",
    "\n",
    "Затем, используя новый словарь, создайте новый корпус документов, corpus2, по аналогии с тем, как это сделано в начале ноутбука. Вычислите две величины: corpus_size_before и corpus_size_after — суммарное количество ингредиентов в корпусе (для каждого документа вычислите число различных ингредиентов в нем и просуммируйте по всем документам) до и после фильтрации.\n",
    "\n",
    "Передайте величины dict_size_before, dict_size_after, corpus_size_before, corpus_size_after в функцию save_answers2 и загрузите сгенерированный файл в форму."
   ]
  },
  {
   "cell_type": "code",
   "execution_count": 42,
   "metadata": {
    "collapsed": false
   },
   "outputs": [
    {
     "data": {
      "text/plain": [
       "[u'garlic',\n",
       " u'pepper',\n",
       " u'ground black pepper',\n",
       " u'salt',\n",
       " u'vegetable oil',\n",
       " u'butter',\n",
       " u'water',\n",
       " u'onions',\n",
       " u'sugar',\n",
       " u'olive oil',\n",
       " u'garlic cloves',\n",
       " u'all-purpose flour']"
      ]
     },
     "execution_count": 42,
     "metadata": {},
     "output_type": "execute_result"
    }
   ],
   "source": [
    "frequent_words_id = [num for num, cnt in dictionary2.dfs.iteritems() if cnt>4000]\n",
    "frequent_words = [dictionary2[num] for num in frequent_words_id]\n",
    "frequent_words "
   ]
  },
  {
   "cell_type": "code",
   "execution_count": 44,
   "metadata": {
    "collapsed": false
   },
   "outputs": [
    {
     "name": "stdout",
     "output_type": "stream",
     "text": [
      "6714 6702\n"
     ]
    }
   ],
   "source": [
    "dict_size_before = len(dictionary2.dfs)\n",
    "dictionary2.filter_tokens(bad_ids=frequent_words_id)\n",
    "dict_size_after = len(dictionary2.dfs)\n",
    "print dict_size_before, dict_size_after"
   ]
  },
  {
   "cell_type": "code",
   "execution_count": 48,
   "metadata": {
    "collapsed": false
   },
   "outputs": [
    {
     "name": "stdout",
     "output_type": "stream",
     "text": [
      "Original corpus size: 428249\n",
      "Reduced corpus size: 343665\n"
     ]
    }
   ],
   "source": [
    "corpus2 = [dictionary2.doc2bow(text) for text in texts]\n",
    "corpus_size_before = 0\n",
    "for text in corpus:\n",
    "    corpus_size_before += len(text)\n",
    "\n",
    "corpus_size_after = 0\n",
    "for text in corpus2:\n",
    "    corpus_size_after += len(text)\n",
    "\n",
    "print('Original corpus size: %d' % corpus_size_before)\n",
    "print('Reduced corpus size: %d' % corpus_size_after)"
   ]
  },
  {
   "cell_type": "code",
   "execution_count": 49,
   "metadata": {
    "collapsed": true
   },
   "outputs": [],
   "source": [
    "def save_answers2(dict_size_before, dict_size_after, corpus_size_before, corpus_size_after):\n",
    "    with open(\"cooking_LDA_pa_task2.txt\", \"w\") as fout:\n",
    "        fout.write(\" \".join([str(el) for el in [dict_size_before, dict_size_after, corpus_size_before, corpus_size_after]]))"
   ]
  },
  {
   "cell_type": "code",
   "execution_count": 50,
   "metadata": {
    "collapsed": true
   },
   "outputs": [],
   "source": [
    "save_answers2(dict_size_before, dict_size_after, corpus_size_before, corpus_size_after)"
   ]
  },
  {
   "cell_type": "markdown",
   "metadata": {},
   "source": [
    "### Сравнение когерентностей\n",
    "__Задание 3.__ Постройте еще одну модель по корпусу corpus2 и словарю dictionary2, остальные параметры оставьте такими же, как при первом построении модели. Сохраните новую модель в другую переменную (не перезаписывайте предыдущую модель). Не забудьте про фиксирование seed!\n",
    "\n",
    "Затем воспользуйтесь методом *top_topics* модели, чтобы вычислить ее когерентность. Передайте в качестве аргумента соответствующий модели корпус. Метод вернет список кортежей (топ токенов, когерентность), отсортированных по убыванию последней. Вычислите среднюю по всем темам когерентность для каждой из двух моделей и передайте в функцию save_answers3. "
   ]
  },
  {
   "cell_type": "code",
   "execution_count": 51,
   "metadata": {
    "collapsed": false
   },
   "outputs": [
    {
     "name": "stdout",
     "output_type": "stream",
     "text": [
      "Wall time: 38.8 s\n"
     ]
    }
   ],
   "source": [
    "np.random.seed(76543)\n",
    "# здесь код для построения модели:\n",
    "%time model_LDA_2 = models.ldamodel.LdaModel(corpus2, id2word=dictionary2, num_topics=40, passes=5)"
   ]
  },
  {
   "cell_type": "code",
   "execution_count": 53,
   "metadata": {
    "collapsed": false
   },
   "outputs": [
    {
     "name": "stdout",
     "output_type": "stream",
     "text": [
      "-6.3307632201 -8.65614690057\n"
     ]
    }
   ],
   "source": [
    "coherence = np.mean( [coh[1] for coh in model_LDA.top_topics(corpus)] )\n",
    "coherence2 = np.mean( [coh[1] for coh in model_LDA_2.top_topics(corpus2)] )\n",
    "print coherence, coherence2"
   ]
  },
  {
   "cell_type": "code",
   "execution_count": 54,
   "metadata": {
    "collapsed": true
   },
   "outputs": [],
   "source": [
    "def save_answers3(coherence, coherence2):\n",
    "    with open(\"cooking_LDA_pa_task3.txt\", \"w\") as fout:\n",
    "        fout.write(\" \".join([\"%3f\"%el for el in [coherence, coherence2]]))"
   ]
  },
  {
   "cell_type": "code",
   "execution_count": 55,
   "metadata": {
    "collapsed": true
   },
   "outputs": [],
   "source": [
    "save_answers3(coherence, coherence2)"
   ]
  },
  {
   "cell_type": "markdown",
   "metadata": {},
   "source": [
    "Считается, что когерентность хорошо соотносится с человеческими оценками интерпретируемости тем. Поэтому на больших текстовых коллекциях когерентность обычно повышается, если убрать фоновую лексику. Однако в нашем случае этого не произошло. "
   ]
  },
  {
   "cell_type": "markdown",
   "metadata": {},
   "source": [
    "### Изучение влияния гиперпараметра alpha"
   ]
  },
  {
   "cell_type": "markdown",
   "metadata": {},
   "source": [
    "В этом разделе мы будем работать со второй моделью, то есть той, которая построена по сокращенному корпусу. \n",
    "\n",
    "Пока что мы посмотрели только на матрицу темы-слова, теперь давайте посмотрим на матрицу темы-документы. Выведите темы для нулевого (или любого другого) документа из корпуса, воспользовавшись методом *get_document_topics* второй модели:"
   ]
  },
  {
   "cell_type": "code",
   "execution_count": 57,
   "metadata": {
    "collapsed": false
   },
   "outputs": [
    {
     "name": "stdout",
     "output_type": "stream",
     "text": [
      "[(25, 0.1281231), (31, 0.61723018), (33, 0.13901819)]\n"
     ]
    },
    {
     "data": {
      "text/plain": [
       "[u'black pepper', u'garam masala', u'ground cumin']"
      ]
     },
     "execution_count": 57,
     "metadata": {},
     "output_type": "execute_result"
    }
   ],
   "source": [
    "print(model_LDA_2.get_document_topics(corpus2[0]))\n",
    "words_0 = [dictionary2[num] for num, _ in model_LDA_2.get_document_topics(corpus2[0])]\n",
    "words_0"
   ]
  },
  {
   "cell_type": "markdown",
   "metadata": {},
   "source": [
    "Также выведите содержимое переменной *.alpha* второй модели:"
   ]
  },
  {
   "cell_type": "code",
   "execution_count": 58,
   "metadata": {
    "collapsed": false
   },
   "outputs": [
    {
     "data": {
      "text/plain": [
       "array([ 0.025,  0.025,  0.025,  0.025,  0.025,  0.025,  0.025,  0.025,\n",
       "        0.025,  0.025,  0.025,  0.025,  0.025,  0.025,  0.025,  0.025,\n",
       "        0.025,  0.025,  0.025,  0.025,  0.025,  0.025,  0.025,  0.025,\n",
       "        0.025,  0.025,  0.025,  0.025,  0.025,  0.025,  0.025,  0.025,\n",
       "        0.025,  0.025,  0.025,  0.025,  0.025,  0.025,  0.025,  0.025], dtype=float32)"
      ]
     },
     "execution_count": 58,
     "metadata": {},
     "output_type": "execute_result"
    }
   ],
   "source": [
    "model_LDA_2.alpha"
   ]
  },
  {
   "cell_type": "markdown",
   "metadata": {},
   "source": [
    "У вас должно получиться, что документ характеризуется небольшим числом тем. Попробуем поменять гиперпараметр alpha, задающий априорное распределение Дирихле для распределений тем в документах."
   ]
  },
  {
   "cell_type": "markdown",
   "metadata": {},
   "source": [
    "__Задание 4.__ Обучите третью модель: используйте сокращенный корпус (corpus2 и dictionary2) и установите параметр __alpha=1__, passes=5. Не забудьте про фиксацию seed! Выведите темы новой модели для нулевого документа; должно получиться, что распределение над множеством тем практически равномерное. Чтобы убедиться в том, что во второй модели документы описываются гораздо более разреженными распределениями, чем в третьей, посчитайте суммарное количество элементов, __превосходящих 0.01__, в матрицах темы-документы обеих моделей. Другими словами, запросите темы  модели для каждого документа с параметром *minimum_probability=0.01* и просуммируйте число элементов в получаемых массивах. Передайте две суммы (сначала для модели с alpha по умолчанию, затем для модели в alpha=1) в функцию save_answers4."
   ]
  },
  {
   "cell_type": "code",
   "execution_count": 59,
   "metadata": {
    "collapsed": false
   },
   "outputs": [
    {
     "name": "stdout",
     "output_type": "stream",
     "text": [
      "Wall time: 27.8 s\n"
     ]
    }
   ],
   "source": [
    "np.random.seed(76543)\n",
    "# здесь код для построения модели:\n",
    "%time model_LDA_3 = models.ldamodel.LdaModel(corpus2, id2word=dictionary2, num_topics=40, passes=5, alpha = 1)"
   ]
  },
  {
   "cell_type": "code",
   "execution_count": 60,
   "metadata": {
    "collapsed": false
   },
   "outputs": [
    {
     "name": "stdout",
     "output_type": "stream",
     "text": [
      "[(0, 0.021391915), (1, 0.021293541), (2, 0.021276835), (3, 0.021361204), (4, 0.021292936), (5, 0.021305528), (6, 0.021300681), (7, 0.021279465), (8, 0.021389352), (9, 0.021369928), (10, 0.021823946), (11, 0.021466278), (12, 0.021276835), (13, 0.022181815), (14, 0.021689469), (15, 0.021493739), (16, 0.02138987), (17, 0.021952765), (18, 0.021316724), (19, 0.021639895), (20, 0.024820087), (21, 0.021277018), (22, 0.021276835), (23, 0.021283461), (24, 0.021748194), (25, 0.021486124), (26, 0.02144737), (27, 0.021613317), (28, 0.021488661), (29, 0.021300066), (30, 0.042602755), (31, 0.092271447), (32, 0.021491755), (33, 0.021277985), (34, 0.021429565), (35, 0.021356428), (36, 0.021325931), (37, 0.02128667), (38, 0.021277493), (39, 0.068446122)]\n"
     ]
    },
    {
     "data": {
      "text/plain": [
       "[u'black olives',\n",
       " u'feta cheese crumbles',\n",
       " u'garbanzo beans',\n",
       " u'grape tomatoes',\n",
       " u'purple onion',\n",
       " u'romaine lettuce',\n",
       " u'seasoning',\n",
       " u'eggs',\n",
       " u'green tomatoes',\n",
       " u'ground pepper',\n",
       " u'milk',\n",
       " u'plain flour',\n",
       " u'thyme',\n",
       " u'tomatoes',\n",
       " u'yellow corn meal',\n",
       " u'chicken livers',\n",
       " u'cooking oil',\n",
       " u'garlic powder',\n",
       " u'green chilies',\n",
       " u'grilled chicken breasts',\n",
       " u'mayonaise',\n",
       " u'soy sauce',\n",
       " u'yellow onion',\n",
       " u'wheat',\n",
       " u'bay leaf',\n",
       " u'black pepper',\n",
       " u'boneless chicken skinless thigh',\n",
       " u'cayenne pepper',\n",
       " u'chili powder',\n",
       " u'cornflour',\n",
       " u'double cream',\n",
       " u'garam masala',\n",
       " u'garlic paste',\n",
       " u'ground cumin',\n",
       " u'lemon juice',\n",
       " u'natural yogurt',\n",
       " u'oil',\n",
       " u'passata',\n",
       " u'shallots',\n",
       " u'baking powder']"
      ]
     },
     "execution_count": 60,
     "metadata": {},
     "output_type": "execute_result"
    }
   ],
   "source": [
    "print(model_LDA_3.get_document_topics(corpus2[0]))\n",
    "words_0 = [dictionary2[num] for num, _ in model_LDA_3.get_document_topics(corpus2[0])]\n",
    "words_0"
   ]
  },
  {
   "cell_type": "code",
   "execution_count": 62,
   "metadata": {
    "collapsed": false
   },
   "outputs": [
    {
     "name": "stdout",
     "output_type": "stream",
     "text": [
      "203376 1590960\n"
     ]
    }
   ],
   "source": [
    "count_model2 = 0\n",
    "count_model3 = 0\n",
    "for i in range(len(corpus2)):\n",
    "    count_model2 += len(model_LDA_2.get_document_topics(corpus2[i], minimum_probability=0.01))\n",
    "    count_model3 += len(model_LDA_3.get_document_topics(corpus2[i], minimum_probability=0.01))\n",
    "print count_model2, count_model3"
   ]
  },
  {
   "cell_type": "code",
   "execution_count": 63,
   "metadata": {
    "collapsed": true
   },
   "outputs": [],
   "source": [
    "def save_answers4(count_model2, count_model3):\n",
    "    with open(\"cooking_LDA_pa_task4.txt\", \"w\") as fout:\n",
    "        fout.write(\" \".join([str(el) for el in [count_model2, count_model3]]))"
   ]
  },
  {
   "cell_type": "code",
   "execution_count": 64,
   "metadata": {
    "collapsed": true
   },
   "outputs": [],
   "source": [
    "save_answers4(count_model2, count_model3)"
   ]
  },
  {
   "cell_type": "markdown",
   "metadata": {},
   "source": [
    "Таким образом, гиперпараметр __alpha__ влияет на разреженность распределений тем в документах. Аналогично гиперпараметр __eta__ влияет на разреженность распределений слов в темах."
   ]
  },
  {
   "cell_type": "markdown",
   "metadata": {},
   "source": [
    "### LDA как способ понижения размерности\n",
    "Иногда, распределения над темами, найденные с помощью LDA, добавляют в матрицу объекты-признаки как дополнительные, семантические, признаки, и это может улучшить качество решения задачи. Для простоты давайте просто обучим классификатор рецептов на кухни на признаках, полученных из LDA, и измерим точность (accuracy).\n",
    "\n",
    "__Задание 5.__ Используйте модель, построенную по сокращенной выборке с alpha по умолчанию (вторую модель). Составьте матрицу $\\Theta = p(t|d)$ вероятностей тем в документах; вы можете использовать тот же метод get_document_topics, а также вектор правильных ответов y (в том же порядке, в котором рецепты идут в переменной recipes). Создайте объект RandomForestClassifier со 100 деревьями, с помощью функции cross_val_score вычислите среднюю accuracy по трем фолдам (перемешивать данные не нужно) и передайте в функцию save_answers5."
   ]
  },
  {
   "cell_type": "code",
   "execution_count": 65,
   "metadata": {
    "collapsed": true
   },
   "outputs": [],
   "source": [
    "from sklearn.ensemble import RandomForestClassifier\n",
    "from sklearn.cross_validation import cross_val_score"
   ]
  },
  {
   "cell_type": "code",
   "execution_count": 75,
   "metadata": {
    "collapsed": false
   },
   "outputs": [
    {
     "data": {
      "text/plain": [
       "u'greek'"
      ]
     },
     "execution_count": 75,
     "metadata": {},
     "output_type": "execute_result"
    }
   ],
   "source": [
    "recipes[0]['cuisine']"
   ]
  },
  {
   "cell_type": "code",
   "execution_count": 72,
   "metadata": {
    "collapsed": false
   },
   "outputs": [],
   "source": [
    "thetta = []\n",
    "for i in range(len(corpus2)):\n",
    "    thetta_i = np.zeros(40)\n",
    "    for j, p in model_LDA_2.get_document_topics(corpus2[i]):\n",
    "        thetta_i[j] = p\n",
    "    thetta.append(thetta_i)"
   ]
  },
  {
   "cell_type": "code",
   "execution_count": 80,
   "metadata": {
    "collapsed": false
   },
   "outputs": [],
   "source": [
    "y = []\n",
    "for i in range(len(recipes)):\n",
    "    y.append(recipes[i]['cuisine'])"
   ]
  },
  {
   "cell_type": "code",
   "execution_count": 81,
   "metadata": {
    "collapsed": true
   },
   "outputs": [],
   "source": [
    "?cross_val_score"
   ]
  },
  {
   "cell_type": "code",
   "execution_count": 82,
   "metadata": {
    "collapsed": true
   },
   "outputs": [],
   "source": [
    "rf_classifier = RandomForestClassifier(n_estimators = 100, random_state = 1)\n",
    "score = cross_val_score(rf_classifier, thetta, y, cv = 3)"
   ]
  },
  {
   "cell_type": "code",
   "execution_count": 83,
   "metadata": {
    "collapsed": false
   },
   "outputs": [
    {
     "name": "stdout",
     "output_type": "stream",
     "text": [
      "0.554282640695\n"
     ]
    }
   ],
   "source": [
    "print score.mean()"
   ]
  },
  {
   "cell_type": "code",
   "execution_count": 84,
   "metadata": {
    "collapsed": true
   },
   "outputs": [],
   "source": [
    "def save_answers5(accuracy):\n",
    "     with open(\"cooking_LDA_pa_task5.txt\", \"w\") as fout:\n",
    "        fout.write(str(accuracy))"
   ]
  },
  {
   "cell_type": "code",
   "execution_count": 85,
   "metadata": {
    "collapsed": true
   },
   "outputs": [],
   "source": [
    "save_answers5(score.mean())"
   ]
  },
  {
   "cell_type": "markdown",
   "metadata": {},
   "source": [
    "Для такого большого количества классов это неплохая точность. Вы можете попроовать обучать RandomForest на исходной матрице частот слов, имеющей значительно большую размерность, и увидеть, что accuracy увеличивается на 10–15%. Таким образом, LDA собрал не всю, но достаточно большую часть информации из выборки, в матрице низкого ранга."
   ]
  },
  {
   "cell_type": "markdown",
   "metadata": {},
   "source": [
    "### LDA — вероятностная модель\n",
    "Матричное разложение, использующееся в LDA, интерпретируется как следующий процесс генерации документов.\n",
    "\n",
    "Для документа $d$ длины $n_d$:\n",
    "1. Из априорного распределения Дирихле с параметром alpha сгенерировать распределение над множеством тем: $\\theta_d \\sim Dirichlet(\\alpha)$\n",
    "1. Для каждого слова $w = 1, \\dots, n_d$:\n",
    "    1. Сгенерировать тему из дискретного распределения $t \\sim \\theta_{d}$\n",
    "    1. Сгенерировать слово из дискретного распределения $w \\sim \\phi_{t}$.\n",
    "    \n",
    "Подробнее об этом в [Википедии](https://en.wikipedia.org/wiki/Latent_Dirichlet_allocation).\n",
    "\n",
    "В контексте нашей задачи получается, что, используя данный генеративный процесс, можно создавать новые рецепты. Вы можете передать в функцию модель и число ингредиентов и сгенерировать рецепт :)"
   ]
  },
  {
   "cell_type": "code",
   "execution_count": 90,
   "metadata": {
    "collapsed": false
   },
   "outputs": [],
   "source": [
    "def generate_recipe(model, num_ingredients):\n",
    "    theta = np.random.dirichlet(model.alpha)\n",
    "    for i in range(num_ingredients):\n",
    "        t = np.random.choice(np.arange(model.num_topics), p=theta)\n",
    "        topic = model.show_topic(t, topn=model.num_terms)\n",
    "        topic_distr = [x[1] for x in topic]\n",
    "        terms = [x[0] for x in topic]\n",
    "        w = np.random.choice(terms, p=topic_distr)\n",
    "        print w\n",
    "#в функци какя-то ошибка"
   ]
  },
  {
   "cell_type": "markdown",
   "metadata": {},
   "source": [
    "### Интерпретация построенной модели\n",
    "Вы можете рассмотреть топы ингредиентов каждой темы. Большиснтво тем сами по себе похожи на рецепты; в некоторых собираются продукты одного вида, например, свежие фрукты или разные виды сыра.\n",
    "\n",
    "Попробуем эмпирически соотнести наши темы с национальными кухнями (cuisine). Построим матрицу $A$ размера темы $x$ кухни, ее элементы $a_{tc}$ — суммы $p(t|d)$ по всем документам $d$, которые отнесены к кухне $c$. Нормируем матрицу на частоты рецептов по разным кухням, чтобы избежать дисбаланса между кухнями. Следующая функция получает на вход объект модели, объект корпуса и исходные данные и возвращает нормированную матрицу $A$. Ее удобно визуализировать с помощью seaborn."
   ]
  },
  {
   "cell_type": "code",
   "execution_count": 93,
   "metadata": {
    "collapsed": false
   },
   "outputs": [
    {
     "name": "stderr",
     "output_type": "stream",
     "text": [
      "C:\\Users\\vaper\\Anaconda2.1\\lib\\site-packages\\pandas\\computation\\__init__.py:19: UserWarning: The installed version of numexpr 2.4.4 is not supported in pandas and will be not be used\n",
      "\n",
      "  UserWarning)\n"
     ]
    }
   ],
   "source": [
    "import pandas\n",
    "import seaborn\n",
    "from matplotlib import pyplot as plt\n",
    "%matplotlib inline"
   ]
  },
  {
   "cell_type": "code",
   "execution_count": 94,
   "metadata": {
    "collapsed": true
   },
   "outputs": [],
   "source": [
    "def compute_topic_cuisine_matrix(model, corpus, recipes):\n",
    "    # составляем вектор целевых признаков\n",
    "    targets = list(set([recipe[\"cuisine\"] for recipe in recipes]))\n",
    "    # составляем матрицу\n",
    "    tc_matrix = pandas.DataFrame(data=np.zeros((model.num_topics, len(targets))), columns=targets)\n",
    "    for recipe, bow in zip(recipes, corpus):\n",
    "        recipe_topic = model.get_document_topics(bow)\n",
    "        for t, prob in recipe_topic:\n",
    "            tc_matrix[recipe[\"cuisine\"]][t] += prob\n",
    "    # нормируем матрицу\n",
    "    target_sums = pandas.DataFrame(data=np.zeros((1, len(targets))), columns=targets)\n",
    "    for recipe in recipes:\n",
    "        target_sums[recipe[\"cuisine\"]] += 1\n",
    "    return pandas.DataFrame(tc_matrix.values/target_sums.values, columns=tc_matrix.columns)"
   ]
  },
  {
   "cell_type": "code",
   "execution_count": 95,
   "metadata": {
    "collapsed": true
   },
   "outputs": [],
   "source": [
    "def plot_matrix(tc_matrix):\n",
    "    plt.figure(figsize=(10, 10))\n",
    "    seaborn.heatmap(tc_matrix, square=True)"
   ]
  },
  {
   "cell_type": "code",
   "execution_count": 96,
   "metadata": {
    "collapsed": false
   },
   "outputs": [
    {
     "data": {
      "image/png": "[encoded data removed]",
      "text/plain": [
       "<matplotlib.figure.Figure at 0xe92a438>"
      ]
     },
     "metadata": {},
     "output_type": "display_data"
    }
   ],
   "source": [
    "# Визуализируйте матрицу\n",
    "plot_matrix(compute_topic_cuisine_matrix(model_LDA_2, corpus2, recipes))"
   ]
  },
  {
   "cell_type": "markdown",
   "metadata": {},
   "source": [
    "Чем темнее квадрат в матрице, тем больше связь этой темы с данной кухней. Мы видим, что у нас есть темы, которые связаны с несколькими кухнями. Такие темы показывают набор ингредиентов, которые популярны в кухнях нескольких народов, то есть указывают на схожесть кухонь этих народов. Некоторые темы распределены по всем кухням равномерно, они показывают наборы продуктов, которые часто используются в кулинарии всех стран. "
   ]
  },
  {
   "cell_type": "markdown",
   "metadata": {},
   "source": [
    "Жаль, что в датасете нет названий рецептов, иначе темы было бы проще интерпретировать..."
   ]
  },
  {
   "cell_type": "markdown",
   "metadata": {},
   "source": [
    "### Заключение\n",
    "В этом задании вы построили несколько моделей LDA, посмотрели, на что влияют гиперпараметры модели и как можно использовать построенную модель. "
   ]
  }
 ],
 "metadata": {
  "kernelspec": {
   "display_name": "Python 2",
   "language": "python",
   "name": "python2"
  },
  "language_info": {
   "codemirror_mode": {
    "name": "ipython",
    "version": 2
   },
   "file_extension": ".py",
   "mimetype": "text/x-python",
   "name": "python",
   "nbconvert_exporter": "python",
   "pygments_lexer": "ipython2",
   "version": "2.7.13"
  }
 },
 "nbformat": 4,
 "nbformat_minor": 0
}
