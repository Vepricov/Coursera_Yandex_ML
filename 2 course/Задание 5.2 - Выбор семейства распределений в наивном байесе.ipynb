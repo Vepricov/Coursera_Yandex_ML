{
 "cells": [
  {
   "cell_type": "markdown",
   "metadata": {},
   "source": [
    "# Задание 5.2 - Выбор семейства распределений в наивном байесе"
   ]
  },
  {
   "cell_type": "markdown",
   "metadata": {},
   "source": [
    "В этом задании вы сможете немного расслабиться после реализации случайного леса и градиентного бустинга по мотивам материалов прошлой недели. Все, что нужно будет делать — запускать методы из sklearn. Вам предлагается выяснить, какое распределение лучше использовать в наивном байесовском классификаторе в зависимости от вида признаков.\n",
    "\n",
    "Загрузите датасеты digits и breast_cancer из sklearn.datasets. Выведите несколько строчек из обучающих выборок и посмотрите на признаки. С помощью sklearn.cross_validation.cross_val_score c настройками по умолчанию и вызова метода mean() у возвращаемого этой функцией numpy.ndarray, сравните качество работы наивных байесовских классификаторов на этих двух датасетах. Для сравнения предлагается использовать BernoulliNB, MultinomialNB и GaussianNB. Насколько полученные результаты согласуются с рекомендациями из лекций?\n",
    "\n",
    "Два датасета, конечно, еще не повод делать далеко идущие выводы, но при желании вы можете продолжить исследование на других выборках (например, из UCI репозитория). \n",
    "\n",
    "Для сдачи задания, ответьте на приведенные ниже вопросы."
   ]
  },
  {
   "cell_type": "markdown",
   "metadata": {},
   "source": [
    "### Вопрос 1\n",
    "\n",
    "Каким получилось максимальное качество классификации на датасете breast_cancer?\n",
    "\n",
    "### Вопрос 2\n",
    "\n",
    "Каким получилось максимальное качество классификации на датасете digits?\n",
    "\n",
    "### Вопрос 3\n",
    "\n",
    "Выберите верные утверждения и запишите их номера через пробел (в порядке возрастания номера):\n",
    "\n",
    "1) На вещественных признаках лучше всего сработал наивный байесовский классификатор с распределением Бернулли\n",
    "\n",
    "2) На вещественных признаках лучше всего сработал наивный байесовский классификатор с мультиномиальным распределением\n",
    "\n",
    "3) Мультиномиальное распределение лучше показало себя на выборке с целыми неотрицательными значениями признаков\n",
    "\n",
    "4) На вещественных признаках лучше всего сработало нормальное распределение"
   ]
  },
  {
   "cell_type": "code",
   "execution_count": 3,
   "metadata": {
    "collapsed": false
   },
   "outputs": [],
   "source": [
    "%matplotlib inline\n",
    "\n",
    "import numpy as np\n",
    "from sklearn.datasets import load_digits, load_breast_cancer\n",
    "from sklearn.cross_validation import cross_val_score\n",
    "from sklearn.naive_bayes import BernoulliNB, MultinomialNB, GaussianNB"
   ]
  },
  {
   "cell_type": "code",
   "execution_count": 4,
   "metadata": {
    "collapsed": true
   },
   "outputs": [],
   "source": [
    "#loading datasets\n",
    "digits = load_digits()\n",
    "X_dig = digits.data\n",
    "y_dig = digits.target\n",
    "\n",
    "breast_cancer = load_breast_cancer()\n",
    "X_br_can = breast_cancer.data\n",
    "y_br_can = breast_cancer.target"
   ]
  },
  {
   "cell_type": "code",
   "execution_count": 5,
   "metadata": {
    "collapsed": true
   },
   "outputs": [],
   "source": [
    "#Initializing Naive Bayes classifiers\n",
    "bnb = BernoulliNB()\n",
    "mnb = MultinomialNB()\n",
    "gnb = GaussianNB()"
   ]
  },
  {
   "cell_type": "code",
   "execution_count": 6,
   "metadata": {
    "collapsed": true
   },
   "outputs": [],
   "source": [
    "#Cross-validation of classifiers\n",
    "score_bnb_dig = cross_val_score(bnb, X_dig, y_dig)\n",
    "score_bnb_br_can = cross_val_score(bnb, X_br_can, y_br_can)\n",
    "\n",
    "score_mnb_dig = cross_val_score(mnb, X_dig, y_dig)\n",
    "score_mnb_br_can = cross_val_score(mnb, X_br_can, y_br_can)\n",
    "\n",
    "score_gnb_dig = cross_val_score(gnb, X_dig, y_dig)\n",
    "score_gnb_br_can = cross_val_score(gnb, X_br_can, y_br_can)"
   ]
  },
  {
   "cell_type": "code",
   "execution_count": 7,
   "metadata": {
    "collapsed": false
   },
   "outputs": [
    {
     "name": "stdout",
     "output_type": "stream",
     "text": [
      "Digits dataset\n",
      "BernoulliNB mean cross_val_score: 0.825823650778\n",
      "MultinomialNB mean cross_val_score: 0.870877148974\n",
      "GaussianNB mean cross_val_score: 0.818600380355\n"
     ]
    }
   ],
   "source": [
    "print('Digits dataset')\n",
    "print('BernoulliNB mean cross_val_score: ' + str(score_bnb_dig.mean()))\n",
    "print('MultinomialNB mean cross_val_score: ' + str(score_mnb_dig.mean()))\n",
    "print('GaussianNB mean cross_val_score: ' + str(score_gnb_dig.mean()))"
   ]
  },
  {
   "cell_type": "code",
   "execution_count": 8,
   "metadata": {
    "collapsed": false
   },
   "outputs": [
    {
     "name": "stdout",
     "output_type": "stream",
     "text": [
      "Breast cancer dataset\n",
      "BernoulliNB mean cross_val_score: 0.627420402859\n",
      "MultinomialNB mean cross_val_score: 0.894579040193\n",
      "GaussianNB mean cross_val_score: 0.936749280609\n"
     ]
    }
   ],
   "source": [
    "print('Breast cancer dataset')\n",
    "print('BernoulliNB mean cross_val_score: ' + str(score_bnb_br_can.mean()))\n",
    "print('MultinomialNB mean cross_val_score: ' + str(score_mnb_br_can.mean()))\n",
    "print('GaussianNB mean cross_val_score: ' + str(score_gnb_br_can.mean()))"
   ]
  },
  {
   "cell_type": "code",
   "execution_count": 9,
   "metadata": {
    "collapsed": true
   },
   "outputs": [],
   "source": [
    "with open('answer1.txt', 'w') as fout:\n",
    "    fout.write(str(np.max([score_bnb_br_can.mean(), score_mnb_br_can.mean(), score_gnb_br_can.mean()])))"
   ]
  },
  {
   "cell_type": "code",
   "execution_count": 10,
   "metadata": {
    "collapsed": true
   },
   "outputs": [],
   "source": [
    "with open('answer2.txt', 'w') as fout:\n",
    "    fout.write(str(np.max([score_bnb_dig.mean(), score_mnb_dig.mean(), score_gnb_dig.mean()])))"
   ]
  },
  {
   "cell_type": "code",
   "execution_count": 11,
   "metadata": {
    "collapsed": true
   },
   "outputs": [],
   "source": [
    "answer = '3 4'\n",
    "with open('answer3.txt', 'w') as fout:\n",
    "    fout.write(answer)"
   ]
  }
 ],
 "metadata": {
  "kernelspec": {
   "display_name": "Python 2",
   "language": "python",
   "name": "python2"
  },
  "language_info": {
   "codemirror_mode": {
    "name": "ipython",
    "version": 2
   },
   "file_extension": ".py",
   "mimetype": "text/x-python",
   "name": "python",
   "nbconvert_exporter": "python",
   "pygments_lexer": "ipython2",
   "version": "2.7.13"
  }
 },
 "nbformat": 4,
 "nbformat_minor": 0
}
