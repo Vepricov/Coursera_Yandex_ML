{
 "cells": [
  {
   "cell_type": "markdown",
   "metadata": {},
   "source": [
    "# Задание 3.3- Минимизация негладкой функции"
   ]
  },
  {
   "cell_type": "code",
   "execution_count": 1,
   "metadata": {
    "collapsed": true
   },
   "outputs": [],
   "source": [
    "import math\n",
    "import numpy as np\n",
    "from matplotlib import pylab as plt\n",
    "%matplotlib inline"
   ]
  },
  {
   "cell_type": "markdown",
   "metadata": {},
   "source": [
    "## 1"
   ]
  },
  {
   "cell_type": "code",
   "execution_count": 4,
   "metadata": {
    "collapsed": false
   },
   "outputs": [
    {
     "data": {
      "image/png": "[encoded data removed]",
      "text/plain": [
       "<matplotlib.figure.Figure at 0xad25eb8>"
      ]
     },
     "metadata": {},
     "output_type": "display_data"
    }
   ],
   "source": [
    "#Теперь рассмотрим функцию h(x) = int(f(x)) на том же отрезке [1, 30], т.е. теперь каждое значение f(x) \n",
    "#приводится к типу int и функция принимает только целые значения.\n",
    "def f(x):\n",
    "    return math.sin(x / 5.0) * math.exp(x / 10.0) + 5 * math.exp(-x / 2.0)\n",
    "def h(x):\n",
    "    return int(f(x))\n",
    "x = np.arange(1, 30, 0.1)\n",
    "y = []\n",
    "z = []\n",
    "for i in x : \n",
    "    y.append(f(i))\n",
    "    z.append(h(i))\n",
    "plt.plot(x, y), plt.plot(x, z)\n",
    "plt.show()"
   ]
  },
  {
   "cell_type": "markdown",
   "metadata": {},
   "source": [
    "## 3"
   ]
  },
  {
   "cell_type": "code",
   "execution_count": 5,
   "metadata": {
    "collapsed": true
   },
   "outputs": [],
   "source": [
    "from scipy.optimize import minimize"
   ]
  },
  {
   "cell_type": "code",
   "execution_count": 6,
   "metadata": {
    "collapsed": false
   },
   "outputs": [
    {
     "name": "stdout",
     "output_type": "stream",
     "text": [
      "   status: 0\n",
      "  success: True\n",
      "     njev: 1\n",
      "     nfev: 3\n",
      " hess_inv: array([[1]])\n",
      "      fun: -5\n",
      "        x: array([ 30.])\n",
      "  message: 'Optimization terminated successfully.'\n",
      "      jac: array([ 0.])\n",
      "      nit: 0\n"
     ]
    }
   ],
   "source": [
    "#Попробуйте найти минимум функции h(x) с помощью BFGS, взяв в качестве начального приближения x=30. \n",
    "#Получившееся значение функции – ваш первый ответ в этой задаче.\n",
    "x_min = minimize(h, 30, method = 'BFGS')\n",
    "print x_min"
   ]
  },
  {
   "cell_type": "markdown",
   "metadata": {},
   "source": [
    "## 4"
   ]
  },
  {
   "cell_type": "code",
   "execution_count": 7,
   "metadata": {
    "collapsed": true
   },
   "outputs": [],
   "source": [
    "from scipy.optimize import differential_evolution as de"
   ]
  },
  {
   "cell_type": "code",
   "execution_count": 9,
   "metadata": {
    "collapsed": false
   },
   "outputs": [
    {
     "name": "stdout",
     "output_type": "stream",
     "text": [
      "    nfev: 92\n",
      " success: True\n",
      "     fun: -11.0\n",
      "       x: array([ 25.38390463])\n",
      " message: 'Optimization terminated successfully.'\n",
      "     nit: 5\n"
     ]
    }
   ],
   "source": [
    "#Теперь попробуйте найти минимум h(x) на отрезке [1, 30] с помощью дифференциальной эволюции. \n",
    "#Значение функции h(x) в точке минимума – это ваш второй ответ в этом задании.\n",
    "bounds = [(1, 30)]\n",
    "x_min = de(h, bounds)\n",
    "print x_min"
   ]
  }
 ],
 "metadata": {
  "kernelspec": {
   "display_name": "Python 2",
   "language": "python",
   "name": "python2"
  },
  "language_info": {
   "codemirror_mode": {
    "name": "ipython",
    "version": 2
   },
   "file_extension": ".py",
   "mimetype": "text/x-python",
   "name": "python",
   "nbconvert_exporter": "python",
   "pygments_lexer": "ipython2",
   "version": "2.7.11"
  }
 },
 "nbformat": 4,
 "nbformat_minor": 0
}
