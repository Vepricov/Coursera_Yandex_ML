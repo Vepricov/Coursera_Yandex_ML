{
 "cells": [
  {
   "cell_type": "markdown",
   "metadata": {},
   "source": [
    "# Задание 2.1 - схожесть строк (Кошачья задача)"
   ]
  },
  {
   "cell_type": "code",
   "execution_count": 309,
   "metadata": {
    "collapsed": true
   },
   "outputs": [],
   "source": [
    "file_obj = open('sentences.txt', 'r')"
   ]
  },
  {
   "cell_type": "code",
   "execution_count": 310,
   "metadata": {
    "collapsed": false
   },
   "outputs": [],
   "source": [
    "data_list = list(file_obj)"
   ]
  },
  {
   "cell_type": "markdown",
   "metadata": {},
   "source": [
    "## 2"
   ]
  },
  {
   "cell_type": "code",
   "execution_count": 311,
   "metadata": {
    "collapsed": false,
    "scrolled": true
   },
   "outputs": [],
   "source": [
    "#Каждая строка в файле соответствует одному предложению. Считайте их, \n",
    "#приведите каждую к нижнему регистру с помощью строковой функции lower().\n",
    "for i in range(0, len(data_list)): data_list[i] = data_list[i].lower()"
   ]
  },
  {
   "cell_type": "code",
   "execution_count": 312,
   "metadata": {
    "collapsed": true
   },
   "outputs": [],
   "source": [
    "#for line in data_list: print line"
   ]
  },
  {
   "cell_type": "markdown",
   "metadata": {},
   "source": [
    "## 3"
   ]
  },
  {
   "cell_type": "code",
   "execution_count": 313,
   "metadata": {
    "collapsed": true
   },
   "outputs": [],
   "source": [
    "#регулярные выражения\n",
    "import re"
   ]
  },
  {
   "cell_type": "code",
   "execution_count": 314,
   "metadata": {
    "collapsed": false
   },
   "outputs": [],
   "source": [
    "#Произведите токенизацию, то есть разбиение текстов на слова. Для этого можно воспользоваться регулярным выражением, \n",
    "#которое считает разделителем любой символ, не являющийся буквой: re.split('[^a-z]', t). \n",
    "for i in range(0, len(data_list)): data_list[i] = re.split('[^a-z]', data_list[i])"
   ]
  },
  {
   "cell_type": "code",
   "execution_count": 315,
   "metadata": {
    "collapsed": true
   },
   "outputs": [],
   "source": [
    "#print data_list"
   ]
  },
  {
   "cell_type": "code",
   "execution_count": 316,
   "metadata": {
    "collapsed": false,
    "scrolled": false
   },
   "outputs": [],
   "source": [
    "#Не забудьте удалить пустые слова после разделения\n",
    "a = 0\n",
    "for i in range(0, len(data_list)):\n",
    "    delite = []\n",
    "    for j in range(0, len(data_list[i])):\n",
    "        if data_list[i][j] == '': \n",
    "            delite.append(j - len(delite))\n",
    "    for j in range(0, len(delite)):\n",
    "        del data_list[i][delite[j]]"
   ]
  },
  {
   "cell_type": "code",
   "execution_count": 317,
   "metadata": {
    "collapsed": true
   },
   "outputs": [],
   "source": [
    "#print data_list"
   ]
  },
  {
   "cell_type": "markdown",
   "metadata": {},
   "source": [
    "## 4"
   ]
  },
  {
   "cell_type": "code",
   "execution_count": 344,
   "metadata": {
    "collapsed": false
   },
   "outputs": [],
   "source": [
    "#Составьте список всех слов, встречающихся в предложениях. Сопоставьте каждому слову индекс от нуля до (d - 1), \n",
    "#где d — число различных слов в предложениях.\n",
    "words = {}\n",
    "d = 0\n",
    "for i in range(0, len(data_list)):\n",
    "    for j in range(0, len(data_list[i])):\n",
    "        if not(data_list[i][j] in words.values()):\n",
    "            words[d] = data_list[i][j]\n",
    "            d += 1"
   ]
  },
  {
   "cell_type": "code",
   "execution_count": 345,
   "metadata": {
    "collapsed": false
   },
   "outputs": [
    {
     "name": "stdout",
     "output_type": "stream",
     "text": [
      "254\n"
     ]
    }
   ],
   "source": [
    "#print d"
   ]
  },
  {
   "cell_type": "markdown",
   "metadata": {},
   "source": [
    "## 5"
   ]
  },
  {
   "cell_type": "code",
   "execution_count": 347,
   "metadata": {
    "collapsed": false
   },
   "outputs": [],
   "source": [
    "n = len(data_list)"
   ]
  },
  {
   "cell_type": "code",
   "execution_count": 348,
   "metadata": {
    "collapsed": false
   },
   "outputs": [],
   "source": [
    "#Создайте матрицу размера n * d, где n — число предложений. Заполните ее: элемент с индексом (i, j) в этой матрице должен \n",
    "#быть равен количеству вхождений j-го слова в i-е предложение. У вас должна получиться матрица размера 22 * 254.\n",
    "core = [[0] * d for i in range(n)]\n",
    "for i in range(0, n):\n",
    "    for j in range(0, d):\n",
    "        col = 0\n",
    "        for k in range(0, len(data_list[i])):\n",
    "            if words[j] == data_list[i][k]: col += 1\n",
    "        core[i][j] = col"
   ]
  },
  {
   "cell_type": "code",
   "execution_count": 360,
   "metadata": {
    "collapsed": false
   },
   "outputs": [],
   "source": [
    "#print core"
   ]
  },
  {
   "cell_type": "markdown",
   "metadata": {},
   "source": [
    "## 6"
   ]
  },
  {
   "cell_type": "code",
   "execution_count": 356,
   "metadata": {
    "collapsed": true
   },
   "outputs": [],
   "source": [
    "from scipy.spatial import distance"
   ]
  },
  {
   "cell_type": "code",
   "execution_count": 370,
   "metadata": {
    "collapsed": false
   },
   "outputs": [
    {
     "name": "stdout",
     "output_type": "stream",
     "text": [
      "6 4\n"
     ]
    }
   ],
   "source": [
    "#Найдите косинусное расстояние от предложения в самой первой строке (In comparison to dogs, cats have not undergone...) \n",
    "#до всех остальных с помощью функции scipy.spatial.distance.cosine. \n",
    "#Какие номера у двух предложений, ближайших к нему по этому расстоянию (строки нумеруются с нуля)? \n",
    "#Эти два числа и будут ответами на задание. Само предложение (In comparison to dogs, cats have not undergone... ) имеет индекс 0.\n",
    "answers = [0.] * n\n",
    "for i in range(0, n):\n",
    "    answers[i] = distance.cosine(core[0], core[i])\n",
    "answers_sorted = sorted(answers)\n",
    "for i in range (0, n):\n",
    "    if answers[i] == answers_sorted[1]:\n",
    "        print i,\n",
    "        break\n",
    "for i in range (0, n):\n",
    "    if answers[i] == answers_sorted[2]:\n",
    "        print i,\n",
    "        break"
   ]
  },
  {
   "cell_type": "markdown",
   "metadata": {},
   "source": [
    "# 6 4 - И есть ответ!"
   ]
  }
 ],
 "metadata": {
  "kernelspec": {
   "display_name": "Python 2",
   "language": "python",
   "name": "python2"
  },
  "language_info": {
   "codemirror_mode": {
    "name": "ipython",
    "version": 2
   },
   "file_extension": ".py",
   "mimetype": "text/x-python",
   "name": "python",
   "nbconvert_exporter": "python",
   "pygments_lexer": "ipython2",
   "version": "2.7.11"
  }
 },
 "nbformat": 4,
 "nbformat_minor": 0
}
